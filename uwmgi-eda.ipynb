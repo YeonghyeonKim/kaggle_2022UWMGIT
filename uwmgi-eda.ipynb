{
 "cells": [
  {
   "cell_type": "markdown",
   "id": "9a91b0a0",
   "metadata": {
    "execution": {
     "iopub.execute_input": "2022-05-10T15:15:22.19151Z",
     "iopub.status.busy": "2022-05-10T15:15:22.191064Z",
     "iopub.status.idle": "2022-05-10T15:15:22.282024Z",
     "shell.execute_reply": "2022-05-10T15:15:22.280801Z",
     "shell.execute_reply.started": "2022-05-10T15:15:22.191411Z"
    },
    "papermill": {
     "duration": 0.018308,
     "end_time": "2022-05-18T15:10:19.550938",
     "exception": false,
     "start_time": "2022-05-18T15:10:19.532630",
     "status": "completed"
    },
    "tags": []
   },
   "source": [
    "# UW Madison GI Tract Image Segmentation\n",
    "EDA"
   ]
  },
  {
   "cell_type": "markdown",
   "id": "877b9a24",
   "metadata": {
    "papermill": {
     "duration": 0.016068,
     "end_time": "2022-05-18T15:10:19.583775",
     "exception": false,
     "start_time": "2022-05-18T15:10:19.567707",
     "status": "completed"
    },
    "tags": []
   },
   "source": [
    "# 📚 Libraries"
   ]
  },
  {
   "cell_type": "code",
   "execution_count": 1,
   "id": "a6a34dab",
   "metadata": {
    "_cell_guid": "b1076dfc-b9ad-4769-8c92-a6c4dae69d19",
    "_uuid": "8f2839f25d086af736a60e9eeb907d3b93b6e0e5",
    "execution": {
     "iopub.execute_input": "2022-05-18T15:10:19.618780Z",
     "iopub.status.busy": "2022-05-18T15:10:19.618409Z",
     "iopub.status.idle": "2022-05-18T15:10:21.082621Z",
     "shell.execute_reply": "2022-05-18T15:10:21.081498Z"
    },
    "papermill": {
     "duration": 1.485287,
     "end_time": "2022-05-18T15:10:21.085465",
     "exception": false,
     "start_time": "2022-05-18T15:10:19.600178",
     "status": "completed"
    },
    "tags": []
   },
   "outputs": [],
   "source": [
    "import os\n",
    "import torch\n",
    "import numpy as np\n",
    "import pandas as pd\n",
    "import torch.nn as nn\n",
    "from glob import glob\n",
    "from PIL import Image\n",
    "import matplotlib.pyplot as plt\n",
    "from tqdm import tqdm"
   ]
  },
  {
   "cell_type": "markdown",
   "id": "ad48830d",
   "metadata": {
    "papermill": {
     "duration": 0.016626,
     "end_time": "2022-05-18T15:10:21.119532",
     "exception": false,
     "start_time": "2022-05-18T15:10:21.102906",
     "status": "completed"
    },
    "tags": []
   },
   "source": [
    "# 📀 Meta Data"
   ]
  },
  {
   "cell_type": "markdown",
   "id": "03af27ee",
   "metadata": {
    "papermill": {
     "duration": 0.016421,
     "end_time": "2022-05-18T15:10:21.152735",
     "exception": false,
     "start_time": "2022-05-18T15:10:21.136314",
     "status": "completed"
    },
    "tags": []
   },
   "source": [
    "Files\n",
    "- train.csv: IDs and masks for all training data\n",
    "- sample_submission.csv: a sample submission\n",
    "- train - a folder of case/day folders, each containing slice images for a particular case on a given day.\n",
    "\n",
    "> 파일 이름이 4개의 숫자로 이뤄진다. 예를 들어 `276_276_1.63_1.63.png`. \n",
    "각 숫자는 1)높이, 2)너비, 3)높이/4)너비 pixel spacing으로 이뤄져있다. "
   ]
  },
  {
   "cell_type": "code",
   "execution_count": 2,
   "id": "4a5998c6",
   "metadata": {
    "execution": {
     "iopub.execute_input": "2022-05-18T15:10:21.188591Z",
     "iopub.status.busy": "2022-05-18T15:10:21.188224Z",
     "iopub.status.idle": "2022-05-18T15:10:21.192278Z",
     "shell.execute_reply": "2022-05-18T15:10:21.191596Z"
    },
    "papermill": {
     "duration": 0.024987,
     "end_time": "2022-05-18T15:10:21.194550",
     "exception": false,
     "start_time": "2022-05-18T15:10:21.169563",
     "status": "completed"
    },
    "tags": []
   },
   "outputs": [],
   "source": [
    "BASE_PATH = \"../input/uw-madison-gi-tract-image-segmentation\""
   ]
  },
  {
   "cell_type": "code",
   "execution_count": 3,
   "id": "f86b529c",
   "metadata": {
    "execution": {
     "iopub.execute_input": "2022-05-18T15:10:21.232020Z",
     "iopub.status.busy": "2022-05-18T15:10:21.231176Z",
     "iopub.status.idle": "2022-05-18T15:10:21.859080Z",
     "shell.execute_reply": "2022-05-18T15:10:21.858105Z"
    },
    "papermill": {
     "duration": 0.650257,
     "end_time": "2022-05-18T15:10:21.862040",
     "exception": false,
     "start_time": "2022-05-18T15:10:21.211783",
     "status": "completed"
    },
    "tags": []
   },
   "outputs": [
    {
     "data": {
      "text/html": [
       "<div>\n",
       "<style scoped>\n",
       "    .dataframe tbody tr th:only-of-type {\n",
       "        vertical-align: middle;\n",
       "    }\n",
       "\n",
       "    .dataframe tbody tr th {\n",
       "        vertical-align: top;\n",
       "    }\n",
       "\n",
       "    .dataframe thead th {\n",
       "        text-align: right;\n",
       "    }\n",
       "</style>\n",
       "<table border=\"1\" class=\"dataframe\">\n",
       "  <thead>\n",
       "    <tr style=\"text-align: right;\">\n",
       "      <th></th>\n",
       "      <th>id</th>\n",
       "      <th>class</th>\n",
       "      <th>segmentation</th>\n",
       "    </tr>\n",
       "  </thead>\n",
       "  <tbody>\n",
       "    <tr>\n",
       "      <th>0</th>\n",
       "      <td>case123_day20_slice_0001</td>\n",
       "      <td>large_bowel</td>\n",
       "      <td>NaN</td>\n",
       "    </tr>\n",
       "    <tr>\n",
       "      <th>1</th>\n",
       "      <td>case123_day20_slice_0001</td>\n",
       "      <td>small_bowel</td>\n",
       "      <td>NaN</td>\n",
       "    </tr>\n",
       "    <tr>\n",
       "      <th>2</th>\n",
       "      <td>case123_day20_slice_0001</td>\n",
       "      <td>stomach</td>\n",
       "      <td>NaN</td>\n",
       "    </tr>\n",
       "    <tr>\n",
       "      <th>3</th>\n",
       "      <td>case123_day20_slice_0002</td>\n",
       "      <td>large_bowel</td>\n",
       "      <td>NaN</td>\n",
       "    </tr>\n",
       "    <tr>\n",
       "      <th>4</th>\n",
       "      <td>case123_day20_slice_0002</td>\n",
       "      <td>small_bowel</td>\n",
       "      <td>NaN</td>\n",
       "    </tr>\n",
       "  </tbody>\n",
       "</table>\n",
       "</div>"
      ],
      "text/plain": [
       "                         id        class segmentation\n",
       "0  case123_day20_slice_0001  large_bowel          NaN\n",
       "1  case123_day20_slice_0001  small_bowel          NaN\n",
       "2  case123_day20_slice_0001      stomach          NaN\n",
       "3  case123_day20_slice_0002  large_bowel          NaN\n",
       "4  case123_day20_slice_0002  small_bowel          NaN"
      ]
     },
     "execution_count": 3,
     "metadata": {},
     "output_type": "execute_result"
    }
   ],
   "source": [
    "df = pd.read_csv('../input/uw-madison-gi-tract-image-segmentation/train.csv')\n",
    "df.head()"
   ]
  },
  {
   "cell_type": "code",
   "execution_count": 4,
   "id": "a493c190",
   "metadata": {
    "execution": {
     "iopub.execute_input": "2022-05-18T15:10:21.902475Z",
     "iopub.status.busy": "2022-05-18T15:10:21.902101Z",
     "iopub.status.idle": "2022-05-18T15:10:21.964079Z",
     "shell.execute_reply": "2022-05-18T15:10:21.962960Z"
    },
    "papermill": {
     "duration": 0.084409,
     "end_time": "2022-05-18T15:10:21.967228",
     "exception": false,
     "start_time": "2022-05-18T15:10:21.882819",
     "status": "completed"
    },
    "tags": []
   },
   "outputs": [
    {
     "name": "stdout",
     "output_type": "stream",
     "text": [
      "<class 'pandas.core.frame.DataFrame'>\n",
      "RangeIndex: 115488 entries, 0 to 115487\n",
      "Data columns (total 3 columns):\n",
      " #   Column        Non-Null Count   Dtype \n",
      "---  ------        --------------   ----- \n",
      " 0   id            115488 non-null  object\n",
      " 1   class         115488 non-null  object\n",
      " 2   segmentation  33913 non-null   object\n",
      "dtypes: object(3)\n",
      "memory usage: 2.6+ MB\n"
     ]
    }
   ],
   "source": [
    "df.info()"
   ]
  },
  {
   "cell_type": "markdown",
   "id": "c8b8a465",
   "metadata": {
    "papermill": {
     "duration": 0.017457,
     "end_time": "2022-05-18T15:10:22.002955",
     "exception": false,
     "start_time": "2022-05-18T15:10:21.985498",
     "status": "completed"
    },
    "tags": []
   },
   "source": [
    "대부분의 행이 segmentation 정보가 없음을 확인 할 수 있다."
   ]
  },
  {
   "cell_type": "markdown",
   "id": "c69c49e5",
   "metadata": {
    "execution": {
     "iopub.execute_input": "2022-05-10T15:21:05.995574Z",
     "iopub.status.busy": "2022-05-10T15:21:05.995166Z",
     "iopub.status.idle": "2022-05-10T15:21:05.998698Z",
     "shell.execute_reply": "2022-05-10T15:21:05.997983Z",
     "shell.execute_reply.started": "2022-05-10T15:21:05.995544Z"
    },
    "papermill": {
     "duration": 0.017608,
     "end_time": "2022-05-18T15:10:22.038436",
     "exception": false,
     "start_time": "2022-05-18T15:10:22.020828",
     "status": "completed"
    },
    "tags": []
   },
   "source": [
    "## preprocessing"
   ]
  },
  {
   "cell_type": "markdown",
   "id": "94e64502",
   "metadata": {
    "papermill": {
     "duration": 0.018578,
     "end_time": "2022-05-18T15:10:22.074848",
     "exception": false,
     "start_time": "2022-05-18T15:10:22.056270",
     "status": "completed"
    },
    "tags": []
   },
   "source": [
    "`id` 열 로부터 id의 정보를 추출하며 `segmentation` 열을 `str`로 변환할 것이다."
   ]
  },
  {
   "cell_type": "code",
   "execution_count": 5,
   "id": "9a27e2da",
   "metadata": {
    "execution": {
     "iopub.execute_input": "2022-05-18T15:10:22.113588Z",
     "iopub.status.busy": "2022-05-18T15:10:22.112958Z",
     "iopub.status.idle": "2022-05-18T15:10:22.410229Z",
     "shell.execute_reply": "2022-05-18T15:10:22.409244Z"
    },
    "papermill": {
     "duration": 0.319769,
     "end_time": "2022-05-18T15:10:22.412906",
     "exception": false,
     "start_time": "2022-05-18T15:10:22.093137",
     "status": "completed"
    },
    "tags": []
   },
   "outputs": [
    {
     "data": {
      "text/html": [
       "<div>\n",
       "<style scoped>\n",
       "    .dataframe tbody tr th:only-of-type {\n",
       "        vertical-align: middle;\n",
       "    }\n",
       "\n",
       "    .dataframe tbody tr th {\n",
       "        vertical-align: top;\n",
       "    }\n",
       "\n",
       "    .dataframe thead th {\n",
       "        text-align: right;\n",
       "    }\n",
       "</style>\n",
       "<table border=\"1\" class=\"dataframe\">\n",
       "  <thead>\n",
       "    <tr style=\"text-align: right;\">\n",
       "      <th></th>\n",
       "      <th>id</th>\n",
       "      <th>class</th>\n",
       "      <th>segmentation</th>\n",
       "      <th>case_id</th>\n",
       "      <th>day_id</th>\n",
       "      <th>slice</th>\n",
       "    </tr>\n",
       "  </thead>\n",
       "  <tbody>\n",
       "    <tr>\n",
       "      <th>0</th>\n",
       "      <td>case123_day20_slice_0001</td>\n",
       "      <td>large_bowel</td>\n",
       "      <td>nan</td>\n",
       "      <td>123</td>\n",
       "      <td>20</td>\n",
       "      <td>0001</td>\n",
       "    </tr>\n",
       "    <tr>\n",
       "      <th>1</th>\n",
       "      <td>case123_day20_slice_0001</td>\n",
       "      <td>small_bowel</td>\n",
       "      <td>nan</td>\n",
       "      <td>123</td>\n",
       "      <td>20</td>\n",
       "      <td>0001</td>\n",
       "    </tr>\n",
       "    <tr>\n",
       "      <th>2</th>\n",
       "      <td>case123_day20_slice_0001</td>\n",
       "      <td>stomach</td>\n",
       "      <td>nan</td>\n",
       "      <td>123</td>\n",
       "      <td>20</td>\n",
       "      <td>0001</td>\n",
       "    </tr>\n",
       "    <tr>\n",
       "      <th>3</th>\n",
       "      <td>case123_day20_slice_0002</td>\n",
       "      <td>large_bowel</td>\n",
       "      <td>nan</td>\n",
       "      <td>123</td>\n",
       "      <td>20</td>\n",
       "      <td>0002</td>\n",
       "    </tr>\n",
       "    <tr>\n",
       "      <th>4</th>\n",
       "      <td>case123_day20_slice_0002</td>\n",
       "      <td>small_bowel</td>\n",
       "      <td>nan</td>\n",
       "      <td>123</td>\n",
       "      <td>20</td>\n",
       "      <td>0002</td>\n",
       "    </tr>\n",
       "  </tbody>\n",
       "</table>\n",
       "</div>"
      ],
      "text/plain": [
       "                         id        class segmentation case_id day_id slice\n",
       "0  case123_day20_slice_0001  large_bowel          nan     123     20  0001\n",
       "1  case123_day20_slice_0001  small_bowel          nan     123     20  0001\n",
       "2  case123_day20_slice_0001      stomach          nan     123     20  0001\n",
       "3  case123_day20_slice_0002  large_bowel          nan     123     20  0002\n",
       "4  case123_day20_slice_0002  small_bowel          nan     123     20  0002"
      ]
     },
     "execution_count": 5,
     "metadata": {},
     "output_type": "execute_result"
    }
   ],
   "source": [
    "df['case_id'] = df['id'].apply(lambda x: x.split('_')[0][4:])\n",
    "df['day_id'] = df['id'].apply(lambda x: x.split('_')[1][3:])\n",
    "df['slice'] = df['id'].apply(lambda x: x.split('_')[-1])\n",
    "df['segmentation'] = df['segmentation'].astype('str')\n",
    "df.head()"
   ]
  },
  {
   "cell_type": "markdown",
   "id": "0b901172",
   "metadata": {
    "papermill": {
     "duration": 0.018101,
     "end_time": "2022-05-18T15:10:22.449366",
     "exception": false,
     "start_time": "2022-05-18T15:10:22.431265",
     "status": "completed"
    },
    "tags": []
   },
   "source": [
    "그리고나서 `id` 열로부터 데이터 위치를 추출하자  \n",
    "실제 데이터 경로 예시는 다음과 같다  \n",
    "`../input/uw-madison-gi-tract-image-segmentation/train/case101/case101_day20/scans/slice_0001_266_266_1.50_1.50.png`"
   ]
  },
  {
   "cell_type": "code",
   "execution_count": 6,
   "id": "6422800b",
   "metadata": {
    "execution": {
     "iopub.execute_input": "2022-05-18T15:10:22.490755Z",
     "iopub.status.busy": "2022-05-18T15:10:22.489993Z",
     "iopub.status.idle": "2022-05-18T15:11:56.096034Z",
     "shell.execute_reply": "2022-05-18T15:11:56.094787Z"
    },
    "papermill": {
     "duration": 93.630291,
     "end_time": "2022-05-18T15:11:56.098351",
     "exception": false,
     "start_time": "2022-05-18T15:10:22.468060",
     "status": "completed"
    },
    "tags": []
   },
   "outputs": [
    {
     "name": "stderr",
     "output_type": "stream",
     "text": [
      "Fetch path from id: 100%|██████████| 115488/115488 [01:33<00:00, 1234.25it/s]\n"
     ]
    },
    {
     "data": {
      "text/html": [
       "<div>\n",
       "<style scoped>\n",
       "    .dataframe tbody tr th:only-of-type {\n",
       "        vertical-align: middle;\n",
       "    }\n",
       "\n",
       "    .dataframe tbody tr th {\n",
       "        vertical-align: top;\n",
       "    }\n",
       "\n",
       "    .dataframe thead th {\n",
       "        text-align: right;\n",
       "    }\n",
       "</style>\n",
       "<table border=\"1\" class=\"dataframe\">\n",
       "  <thead>\n",
       "    <tr style=\"text-align: right;\">\n",
       "      <th></th>\n",
       "      <th>id</th>\n",
       "      <th>class</th>\n",
       "      <th>segmentation</th>\n",
       "      <th>case_id</th>\n",
       "      <th>day_id</th>\n",
       "      <th>slice</th>\n",
       "      <th>path</th>\n",
       "    </tr>\n",
       "  </thead>\n",
       "  <tbody>\n",
       "    <tr>\n",
       "      <th>0</th>\n",
       "      <td>case123_day20_slice_0001</td>\n",
       "      <td>large_bowel</td>\n",
       "      <td>nan</td>\n",
       "      <td>123</td>\n",
       "      <td>20</td>\n",
       "      <td>0001</td>\n",
       "      <td>../input/uw-madison-gi-tract-image-segmentatio...</td>\n",
       "    </tr>\n",
       "    <tr>\n",
       "      <th>1</th>\n",
       "      <td>case123_day20_slice_0001</td>\n",
       "      <td>small_bowel</td>\n",
       "      <td>nan</td>\n",
       "      <td>123</td>\n",
       "      <td>20</td>\n",
       "      <td>0001</td>\n",
       "      <td>../input/uw-madison-gi-tract-image-segmentatio...</td>\n",
       "    </tr>\n",
       "    <tr>\n",
       "      <th>2</th>\n",
       "      <td>case123_day20_slice_0001</td>\n",
       "      <td>stomach</td>\n",
       "      <td>nan</td>\n",
       "      <td>123</td>\n",
       "      <td>20</td>\n",
       "      <td>0001</td>\n",
       "      <td>../input/uw-madison-gi-tract-image-segmentatio...</td>\n",
       "    </tr>\n",
       "    <tr>\n",
       "      <th>3</th>\n",
       "      <td>case123_day20_slice_0002</td>\n",
       "      <td>large_bowel</td>\n",
       "      <td>nan</td>\n",
       "      <td>123</td>\n",
       "      <td>20</td>\n",
       "      <td>0002</td>\n",
       "      <td>../input/uw-madison-gi-tract-image-segmentatio...</td>\n",
       "    </tr>\n",
       "    <tr>\n",
       "      <th>4</th>\n",
       "      <td>case123_day20_slice_0002</td>\n",
       "      <td>small_bowel</td>\n",
       "      <td>nan</td>\n",
       "      <td>123</td>\n",
       "      <td>20</td>\n",
       "      <td>0002</td>\n",
       "      <td>../input/uw-madison-gi-tract-image-segmentatio...</td>\n",
       "    </tr>\n",
       "  </tbody>\n",
       "</table>\n",
       "</div>"
      ],
      "text/plain": [
       "                         id        class segmentation case_id day_id slice  \\\n",
       "0  case123_day20_slice_0001  large_bowel          nan     123     20  0001   \n",
       "1  case123_day20_slice_0001  small_bowel          nan     123     20  0001   \n",
       "2  case123_day20_slice_0001      stomach          nan     123     20  0001   \n",
       "3  case123_day20_slice_0002  large_bowel          nan     123     20  0002   \n",
       "4  case123_day20_slice_0002  small_bowel          nan     123     20  0002   \n",
       "\n",
       "                                                path  \n",
       "0  ../input/uw-madison-gi-tract-image-segmentatio...  \n",
       "1  ../input/uw-madison-gi-tract-image-segmentatio...  \n",
       "2  ../input/uw-madison-gi-tract-image-segmentatio...  \n",
       "3  ../input/uw-madison-gi-tract-image-segmentatio...  \n",
       "4  ../input/uw-madison-gi-tract-image-segmentatio...  "
      ]
     },
     "execution_count": 6,
     "metadata": {},
     "output_type": "execute_result"
    }
   ],
   "source": [
    "def fetch_path_from_id(base_path, case_id):\n",
    "    case_folder = case_id.split('_')[0]\n",
    "    day_folder = '_'.join(case_id.split('_')[:2])\n",
    "    png_file_start = '_'.join(case_id.split('_')[2:])\n",
    "    \n",
    "    folder = os.path.join(base_path,'train', case_folder, day_folder, 'scans')\n",
    "    png_file = glob(os.path.join(folder, png_file_start+\"*\"))[0]\n",
    "    return png_file\n",
    "\n",
    "tqdm.pandas(desc='Fetch path from id')\n",
    "df['path'] = df['id'].progress_apply(lambda x: fetch_path_from_id(BASE_PATH, x))\n",
    "df.head()\n",
    "    "
   ]
  },
  {
   "cell_type": "markdown",
   "id": "30f917eb",
   "metadata": {
    "papermill": {
     "duration": 0.398539,
     "end_time": "2022-05-18T15:11:56.855497",
     "exception": false,
     "start_time": "2022-05-18T15:11:56.456958",
     "status": "completed"
    },
    "tags": []
   },
   "source": [
    "이제는 마스크의 height, width, pixel spacing 정보를 찾아 붙이자"
   ]
  },
  {
   "cell_type": "code",
   "execution_count": 7,
   "id": "e43aff58",
   "metadata": {
    "execution": {
     "iopub.execute_input": "2022-05-18T15:11:57.614480Z",
     "iopub.status.busy": "2022-05-18T15:11:57.614152Z",
     "iopub.status.idle": "2022-05-18T15:11:58.290012Z",
     "shell.execute_reply": "2022-05-18T15:11:58.288871Z"
    },
    "papermill": {
     "duration": 1.032873,
     "end_time": "2022-05-18T15:11:58.292605",
     "exception": false,
     "start_time": "2022-05-18T15:11:57.259732",
     "status": "completed"
    },
    "tags": []
   },
   "outputs": [
    {
     "data": {
      "text/html": [
       "<div>\n",
       "<style scoped>\n",
       "    .dataframe tbody tr th:only-of-type {\n",
       "        vertical-align: middle;\n",
       "    }\n",
       "\n",
       "    .dataframe tbody tr th {\n",
       "        vertical-align: top;\n",
       "    }\n",
       "\n",
       "    .dataframe thead th {\n",
       "        text-align: right;\n",
       "    }\n",
       "</style>\n",
       "<table border=\"1\" class=\"dataframe\">\n",
       "  <thead>\n",
       "    <tr style=\"text-align: right;\">\n",
       "      <th></th>\n",
       "      <th>id</th>\n",
       "      <th>class</th>\n",
       "      <th>segmentation</th>\n",
       "      <th>case_id</th>\n",
       "      <th>day_id</th>\n",
       "      <th>slice</th>\n",
       "      <th>path</th>\n",
       "      <th>height</th>\n",
       "      <th>width</th>\n",
       "      <th>pixel_horizontal_spacing</th>\n",
       "      <th>pixel_vertical_spacing</th>\n",
       "    </tr>\n",
       "  </thead>\n",
       "  <tbody>\n",
       "    <tr>\n",
       "      <th>0</th>\n",
       "      <td>case123_day20_slice_0001</td>\n",
       "      <td>large_bowel</td>\n",
       "      <td>nan</td>\n",
       "      <td>123</td>\n",
       "      <td>20</td>\n",
       "      <td>0001</td>\n",
       "      <td>../input/uw-madison-gi-tract-image-segmentatio...</td>\n",
       "      <td>266</td>\n",
       "      <td>266</td>\n",
       "      <td>1.5</td>\n",
       "      <td>1.0</td>\n",
       "    </tr>\n",
       "    <tr>\n",
       "      <th>1</th>\n",
       "      <td>case123_day20_slice_0001</td>\n",
       "      <td>small_bowel</td>\n",
       "      <td>nan</td>\n",
       "      <td>123</td>\n",
       "      <td>20</td>\n",
       "      <td>0001</td>\n",
       "      <td>../input/uw-madison-gi-tract-image-segmentatio...</td>\n",
       "      <td>266</td>\n",
       "      <td>266</td>\n",
       "      <td>1.5</td>\n",
       "      <td>1.0</td>\n",
       "    </tr>\n",
       "    <tr>\n",
       "      <th>2</th>\n",
       "      <td>case123_day20_slice_0001</td>\n",
       "      <td>stomach</td>\n",
       "      <td>nan</td>\n",
       "      <td>123</td>\n",
       "      <td>20</td>\n",
       "      <td>0001</td>\n",
       "      <td>../input/uw-madison-gi-tract-image-segmentatio...</td>\n",
       "      <td>266</td>\n",
       "      <td>266</td>\n",
       "      <td>1.5</td>\n",
       "      <td>1.0</td>\n",
       "    </tr>\n",
       "    <tr>\n",
       "      <th>3</th>\n",
       "      <td>case123_day20_slice_0002</td>\n",
       "      <td>large_bowel</td>\n",
       "      <td>nan</td>\n",
       "      <td>123</td>\n",
       "      <td>20</td>\n",
       "      <td>0002</td>\n",
       "      <td>../input/uw-madison-gi-tract-image-segmentatio...</td>\n",
       "      <td>266</td>\n",
       "      <td>266</td>\n",
       "      <td>1.5</td>\n",
       "      <td>1.0</td>\n",
       "    </tr>\n",
       "    <tr>\n",
       "      <th>4</th>\n",
       "      <td>case123_day20_slice_0002</td>\n",
       "      <td>small_bowel</td>\n",
       "      <td>nan</td>\n",
       "      <td>123</td>\n",
       "      <td>20</td>\n",
       "      <td>0002</td>\n",
       "      <td>../input/uw-madison-gi-tract-image-segmentatio...</td>\n",
       "      <td>266</td>\n",
       "      <td>266</td>\n",
       "      <td>1.5</td>\n",
       "      <td>1.0</td>\n",
       "    </tr>\n",
       "  </tbody>\n",
       "</table>\n",
       "</div>"
      ],
      "text/plain": [
       "                         id        class segmentation case_id day_id slice  \\\n",
       "0  case123_day20_slice_0001  large_bowel          nan     123     20  0001   \n",
       "1  case123_day20_slice_0001  small_bowel          nan     123     20  0001   \n",
       "2  case123_day20_slice_0001      stomach          nan     123     20  0001   \n",
       "3  case123_day20_slice_0002  large_bowel          nan     123     20  0002   \n",
       "4  case123_day20_slice_0002  small_bowel          nan     123     20  0002   \n",
       "\n",
       "                                                path  height  width  \\\n",
       "0  ../input/uw-madison-gi-tract-image-segmentatio...     266    266   \n",
       "1  ../input/uw-madison-gi-tract-image-segmentatio...     266    266   \n",
       "2  ../input/uw-madison-gi-tract-image-segmentatio...     266    266   \n",
       "3  ../input/uw-madison-gi-tract-image-segmentatio...     266    266   \n",
       "4  ../input/uw-madison-gi-tract-image-segmentatio...     266    266   \n",
       "\n",
       "   pixel_horizontal_spacing  pixel_vertical_spacing  \n",
       "0                       1.5                     1.0  \n",
       "1                       1.5                     1.0  \n",
       "2                       1.5                     1.0  \n",
       "3                       1.5                     1.0  \n",
       "4                       1.5                     1.0  "
      ]
     },
     "execution_count": 7,
     "metadata": {},
     "output_type": "execute_result"
    }
   ],
   "source": [
    "df['height'] = df['path'].apply(lambda x: x.split('/')[-1].split('_')[2]).astype('int')\n",
    "df['width'] = df['path'].apply(lambda x: x.split('/')[-1].split('_')[3]).astype('int')\n",
    "df['pixel_horizontal_spacing'] = df['path'].apply(lambda x: x.split('/')[-1].split('_')[4]).astype('float')\n",
    "df['pixel_vertical_spacing'] = df['path'].apply(lambda x: x.split('/')[-1].split('_')[5].split('.')[0]).astype('float')\n",
    "df.head()"
   ]
  },
  {
   "cell_type": "markdown",
   "id": "a257f197",
   "metadata": {
    "papermill": {
     "duration": 0.363407,
     "end_time": "2022-05-18T15:11:59.009923",
     "exception": false,
     "start_time": "2022-05-18T15:11:58.646516",
     "status": "completed"
    },
    "tags": []
   },
   "source": [
    "이제 rle로된 `segmentation` 열을 마스크 이미지로 생성해보자"
   ]
  },
  {
   "cell_type": "code",
   "execution_count": 8,
   "id": "7272d846",
   "metadata": {
    "execution": {
     "iopub.execute_input": "2022-05-18T15:11:59.733889Z",
     "iopub.status.busy": "2022-05-18T15:11:59.733564Z",
     "iopub.status.idle": "2022-05-18T15:11:59.744571Z",
     "shell.execute_reply": "2022-05-18T15:11:59.743642Z"
    },
    "papermill": {
     "duration": 0.382631,
     "end_time": "2022-05-18T15:11:59.747253",
     "exception": false,
     "start_time": "2022-05-18T15:11:59.364622",
     "status": "completed"
    },
    "tags": []
   },
   "outputs": [],
   "source": [
    "# ref: https://www.kaggle.com/paulorzp/run-length-encode-and-decode\n",
    "def rle_decode(mask_rle, shape):\n",
    "    '''\n",
    "    mask_rle: run-length as string formated (start length)\n",
    "    shape: (height,width) of array to return \n",
    "    Returns numpy array, 1 - mask, 0 - background\n",
    "\n",
    "    '''\n",
    "    s = mask_rle.split()\n",
    "    starts, lengths = [np.asarray(x, dtype=int) for x in (s[0:][::2], s[1:][::2])]\n",
    "    starts -= 1\n",
    "    ends = starts + lengths\n",
    "    img = np.zeros(shape[0]*shape[1], dtype=np.uint8)\n",
    "    for lo, hi in zip(starts, ends):\n",
    "        img[lo:hi] = 1\n",
    "    return img.reshape(shape)  # Needed to align to RLE direction\n",
    "\n",
    "\n",
    "# ref.: https://www.kaggle.com/stainsby/fast-tested-rle\n",
    "def rle_encode(img):\n",
    "    '''\n",
    "    img: numpy array, 1 - mask, 0 - background\n",
    "    Returns run length as string formated\n",
    "    '''\n",
    "    pixels = img.flatten()\n",
    "    pixels = np.concatenate([[0], pixels, [0]])\n",
    "    runs = np.where(pixels[1:] != pixels[:-1])[0] + 1\n",
    "    runs[1::2] -= runs[::2]\n",
    "    return ' '.join(str(x) for x in runs)"
   ]
  },
  {
   "cell_type": "code",
   "execution_count": 9,
   "id": "5f1f7a70",
   "metadata": {
    "execution": {
     "iopub.execute_input": "2022-05-18T15:12:00.476082Z",
     "iopub.status.busy": "2022-05-18T15:12:00.475772Z",
     "iopub.status.idle": "2022-05-18T15:12:01.065598Z",
     "shell.execute_reply": "2022-05-18T15:12:01.064615Z"
    },
    "papermill": {
     "duration": 0.957716,
     "end_time": "2022-05-18T15:12:01.068790",
     "exception": false,
     "start_time": "2022-05-18T15:12:00.111074",
     "status": "completed"
    },
    "tags": []
   },
   "outputs": [
    {
     "data": {
      "image/png": "[encoded data removed]",
      "text/plain": [
       "<Figure size 432x288 with 2 Axes>"
      ]
     },
     "metadata": {
      "needs_background": "light"
     },
     "output_type": "display_data"
    }
   ],
   "source": [
    "import cv2\n",
    "plt.subplot(1,2,1); plt.axis('off')\n",
    "plt.imshow(cv2.imread(df.loc[200, 'path'], cv2.IMREAD_UNCHANGED), cmap='bone')\n",
    "plt.subplot(1,2,2); plt.axis('off')\n",
    "plt.imshow(rle_decode(df.loc[200, 'segmentation'], df.loc[200, ['height', 'width']]), cmap='bone')\n",
    "plt.tight_layout()\n",
    "plt.show()"
   ]
  },
  {
   "cell_type": "code",
   "execution_count": null,
   "id": "0d25a1f1",
   "metadata": {
    "papermill": {
     "duration": 0.346873,
     "end_time": "2022-05-18T15:12:01.771961",
     "exception": false,
     "start_time": "2022-05-18T15:12:01.425088",
     "status": "completed"
    },
    "tags": []
   },
   "outputs": [],
   "source": []
  }
 ],
 "metadata": {
  "kernelspec": {
   "display_name": "Python 3",
   "language": "python",
   "name": "python3"
  },
  "language_info": {
   "codemirror_mode": {
    "name": "ipython",
    "version": 3
   },
   "file_extension": ".py",
   "mimetype": "text/x-python",
   "name": "python",
   "nbconvert_exporter": "python",
   "pygments_lexer": "ipython3",
   "version": "3.7.12"
  },
  "papermill": {
   "default_parameters": {},
   "duration": 114.109444,
   "end_time": "2022-05-18T15:12:03.242551",
   "environment_variables": {},
   "exception": null,
   "input_path": "__notebook__.ipynb",
   "output_path": "__notebook__.ipynb",
   "parameters": {},
   "start_time": "2022-05-18T15:10:09.133107",
   "version": "2.3.4"
  }
 },
 "nbformat": 4,
 "nbformat_minor": 5
}
