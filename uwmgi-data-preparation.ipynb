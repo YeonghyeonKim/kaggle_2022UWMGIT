{
 "cells": [
  {
   "cell_type": "markdown",
   "id": "bbd2e22f",
   "metadata": {
    "execution": {
     "iopub.execute_input": "2022-05-10T15:15:22.19151Z",
     "iopub.status.busy": "2022-05-10T15:15:22.191064Z",
     "iopub.status.idle": "2022-05-10T15:15:22.282024Z",
     "shell.execute_reply": "2022-05-10T15:15:22.280801Z",
     "shell.execute_reply.started": "2022-05-10T15:15:22.191411Z"
    },
    "papermill": {
     "duration": 0.01837,
     "end_time": "2022-05-18T16:13:04.592630",
     "exception": false,
     "start_time": "2022-05-18T16:13:04.574260",
     "status": "completed"
    },
    "tags": []
   },
   "source": [
    "# UW Madison GI Tract Image Segmentation\n",
    "Data Preparation  \n",
    "차후 학습/예측시 사용하기 위해 작성"
   ]
  },
  {
   "cell_type": "markdown",
   "id": "dc4130fb",
   "metadata": {
    "papermill": {
     "duration": 0.019088,
     "end_time": "2022-05-18T16:13:04.630197",
     "exception": false,
     "start_time": "2022-05-18T16:13:04.611109",
     "status": "completed"
    },
    "tags": []
   },
   "source": [
    "# 📚 Libraries"
   ]
  },
  {
   "cell_type": "code",
   "execution_count": 1,
   "id": "fd7e1cdb",
   "metadata": {
    "_cell_guid": "b1076dfc-b9ad-4769-8c92-a6c4dae69d19",
    "_uuid": "8f2839f25d086af736a60e9eeb907d3b93b6e0e5",
    "execution": {
     "iopub.execute_input": "2022-05-18T16:13:04.667465Z",
     "iopub.status.busy": "2022-05-18T16:13:04.666998Z",
     "iopub.status.idle": "2022-05-18T16:13:06.505724Z",
     "shell.execute_reply": "2022-05-18T16:13:06.504797Z"
    },
    "papermill": {
     "duration": 1.860727,
     "end_time": "2022-05-18T16:13:06.508355",
     "exception": false,
     "start_time": "2022-05-18T16:13:04.647628",
     "status": "completed"
    },
    "tags": []
   },
   "outputs": [],
   "source": [
    "import os\n",
    "import torch\n",
    "import numpy as np\n",
    "import pandas as pd\n",
    "import torch.nn as nn\n",
    "from glob import glob\n",
    "from PIL import Image\n",
    "import matplotlib.pyplot as plt\n",
    "from tqdm import tqdm\n",
    "import cv2\n",
    "\n",
    "from torch.utils.data import Dataset, DataLoader\n",
    "from torchvision.transforms import ToTensor, Resize"
   ]
  },
  {
   "cell_type": "markdown",
   "id": "b97801dd",
   "metadata": {
    "papermill": {
     "duration": 0.016878,
     "end_time": "2022-05-18T16:13:06.542330",
     "exception": false,
     "start_time": "2022-05-18T16:13:06.525452",
     "status": "completed"
    },
    "tags": []
   },
   "source": [
    "# 📀 Meta Data"
   ]
  },
  {
   "cell_type": "markdown",
   "id": "287fe457",
   "metadata": {
    "papermill": {
     "duration": 0.017069,
     "end_time": "2022-05-18T16:13:06.576681",
     "exception": false,
     "start_time": "2022-05-18T16:13:06.559612",
     "status": "completed"
    },
    "tags": []
   },
   "source": [
    "Files\n",
    "- train.csv: IDs and masks for all training data\n",
    "- sample_submission.csv: a sample submission\n",
    "- train - a folder of case/day folders, each containing slice images for a particular case on a given day.\n",
    "\n",
    "> 파일 이름이 4개의 숫자로 이뤄진다. 예를 들어 `276_276_1.63_1.63.png`. \n",
    "각 숫자는 1)높이, 2)너비, 3)높이/4)너비 pixel spacing으로 이뤄져있다. "
   ]
  },
  {
   "cell_type": "code",
   "execution_count": 2,
   "id": "46ec1b68",
   "metadata": {
    "execution": {
     "iopub.execute_input": "2022-05-18T16:13:06.612043Z",
     "iopub.status.busy": "2022-05-18T16:13:06.611744Z",
     "iopub.status.idle": "2022-05-18T16:13:06.615372Z",
     "shell.execute_reply": "2022-05-18T16:13:06.614773Z"
    },
    "papermill": {
     "duration": 0.023465,
     "end_time": "2022-05-18T16:13:06.617031",
     "exception": false,
     "start_time": "2022-05-18T16:13:06.593566",
     "status": "completed"
    },
    "tags": []
   },
   "outputs": [],
   "source": [
    "BASE_PATH = \"../input/uw-madison-gi-tract-image-segmentation\""
   ]
  },
  {
   "cell_type": "code",
   "execution_count": 3,
   "id": "e35987ea",
   "metadata": {
    "execution": {
     "iopub.execute_input": "2022-05-18T16:13:06.654237Z",
     "iopub.status.busy": "2022-05-18T16:13:06.653711Z",
     "iopub.status.idle": "2022-05-18T16:13:07.264105Z",
     "shell.execute_reply": "2022-05-18T16:13:07.263474Z"
    },
    "papermill": {
     "duration": 0.630527,
     "end_time": "2022-05-18T16:13:07.266152",
     "exception": false,
     "start_time": "2022-05-18T16:13:06.635625",
     "status": "completed"
    },
    "tags": []
   },
   "outputs": [
    {
     "data": {
      "text/html": [
       "<div>\n",
       "<style scoped>\n",
       "    .dataframe tbody tr th:only-of-type {\n",
       "        vertical-align: middle;\n",
       "    }\n",
       "\n",
       "    .dataframe tbody tr th {\n",
       "        vertical-align: top;\n",
       "    }\n",
       "\n",
       "    .dataframe thead th {\n",
       "        text-align: right;\n",
       "    }\n",
       "</style>\n",
       "<table border=\"1\" class=\"dataframe\">\n",
       "  <thead>\n",
       "    <tr style=\"text-align: right;\">\n",
       "      <th></th>\n",
       "      <th>id</th>\n",
       "      <th>class</th>\n",
       "      <th>segmentation</th>\n",
       "    </tr>\n",
       "  </thead>\n",
       "  <tbody>\n",
       "    <tr>\n",
       "      <th>0</th>\n",
       "      <td>case123_day20_slice_0001</td>\n",
       "      <td>large_bowel</td>\n",
       "      <td>NaN</td>\n",
       "    </tr>\n",
       "    <tr>\n",
       "      <th>1</th>\n",
       "      <td>case123_day20_slice_0001</td>\n",
       "      <td>small_bowel</td>\n",
       "      <td>NaN</td>\n",
       "    </tr>\n",
       "    <tr>\n",
       "      <th>2</th>\n",
       "      <td>case123_day20_slice_0001</td>\n",
       "      <td>stomach</td>\n",
       "      <td>NaN</td>\n",
       "    </tr>\n",
       "    <tr>\n",
       "      <th>3</th>\n",
       "      <td>case123_day20_slice_0002</td>\n",
       "      <td>large_bowel</td>\n",
       "      <td>NaN</td>\n",
       "    </tr>\n",
       "    <tr>\n",
       "      <th>4</th>\n",
       "      <td>case123_day20_slice_0002</td>\n",
       "      <td>small_bowel</td>\n",
       "      <td>NaN</td>\n",
       "    </tr>\n",
       "  </tbody>\n",
       "</table>\n",
       "</div>"
      ],
      "text/plain": [
       "                         id        class segmentation\n",
       "0  case123_day20_slice_0001  large_bowel          NaN\n",
       "1  case123_day20_slice_0001  small_bowel          NaN\n",
       "2  case123_day20_slice_0001      stomach          NaN\n",
       "3  case123_day20_slice_0002  large_bowel          NaN\n",
       "4  case123_day20_slice_0002  small_bowel          NaN"
      ]
     },
     "execution_count": 3,
     "metadata": {},
     "output_type": "execute_result"
    }
   ],
   "source": [
    "df = pd.read_csv('../input/uw-madison-gi-tract-image-segmentation/train.csv')\n",
    "df.head()"
   ]
  },
  {
   "cell_type": "code",
   "execution_count": 4,
   "id": "9653bbd7",
   "metadata": {
    "execution": {
     "iopub.execute_input": "2022-05-18T16:13:07.306417Z",
     "iopub.status.busy": "2022-05-18T16:13:07.305901Z",
     "iopub.status.idle": "2022-05-18T16:13:07.345809Z",
     "shell.execute_reply": "2022-05-18T16:13:07.344671Z"
    },
    "papermill": {
     "duration": 0.06356,
     "end_time": "2022-05-18T16:13:07.347884",
     "exception": false,
     "start_time": "2022-05-18T16:13:07.284324",
     "status": "completed"
    },
    "tags": []
   },
   "outputs": [
    {
     "name": "stdout",
     "output_type": "stream",
     "text": [
      "<class 'pandas.core.frame.DataFrame'>\n",
      "RangeIndex: 115488 entries, 0 to 115487\n",
      "Data columns (total 3 columns):\n",
      " #   Column        Non-Null Count   Dtype \n",
      "---  ------        --------------   ----- \n",
      " 0   id            115488 non-null  object\n",
      " 1   class         115488 non-null  object\n",
      " 2   segmentation  33913 non-null   object\n",
      "dtypes: object(3)\n",
      "memory usage: 2.6+ MB\n"
     ]
    }
   ],
   "source": [
    "df.info()"
   ]
  },
  {
   "cell_type": "markdown",
   "id": "8c43a71f",
   "metadata": {
    "papermill": {
     "duration": 0.017348,
     "end_time": "2022-05-18T16:13:07.383025",
     "exception": false,
     "start_time": "2022-05-18T16:13:07.365677",
     "status": "completed"
    },
    "tags": []
   },
   "source": [
    "대부분의 행이 segmentation 정보가 없음을 확인 할 수 있다."
   ]
  },
  {
   "cell_type": "markdown",
   "id": "f4e821c9",
   "metadata": {
    "execution": {
     "iopub.execute_input": "2022-05-10T15:21:05.995574Z",
     "iopub.status.busy": "2022-05-10T15:21:05.995166Z",
     "iopub.status.idle": "2022-05-10T15:21:05.998698Z",
     "shell.execute_reply": "2022-05-10T15:21:05.997983Z",
     "shell.execute_reply.started": "2022-05-10T15:21:05.995544Z"
    },
    "papermill": {
     "duration": 0.017333,
     "end_time": "2022-05-18T16:13:07.418062",
     "exception": false,
     "start_time": "2022-05-18T16:13:07.400729",
     "status": "completed"
    },
    "tags": []
   },
   "source": [
    "## preprocessing"
   ]
  },
  {
   "cell_type": "markdown",
   "id": "73c9250a",
   "metadata": {
    "papermill": {
     "duration": 0.01727,
     "end_time": "2022-05-18T16:13:07.452813",
     "exception": false,
     "start_time": "2022-05-18T16:13:07.435543",
     "status": "completed"
    },
    "tags": []
   },
   "source": [
    "`id` 열 로부터 id의 정보를 추출하며 `segmentation` 열을 `str`로 변환할 것이다."
   ]
  },
  {
   "cell_type": "code",
   "execution_count": 5,
   "id": "04db4ee6",
   "metadata": {
    "execution": {
     "iopub.execute_input": "2022-05-18T16:13:07.489502Z",
     "iopub.status.busy": "2022-05-18T16:13:07.489235Z",
     "iopub.status.idle": "2022-05-18T16:13:07.677182Z",
     "shell.execute_reply": "2022-05-18T16:13:07.676216Z"
    },
    "papermill": {
     "duration": 0.20907,
     "end_time": "2022-05-18T16:13:07.679375",
     "exception": false,
     "start_time": "2022-05-18T16:13:07.470305",
     "status": "completed"
    },
    "tags": []
   },
   "outputs": [
    {
     "data": {
      "text/html": [
       "<div>\n",
       "<style scoped>\n",
       "    .dataframe tbody tr th:only-of-type {\n",
       "        vertical-align: middle;\n",
       "    }\n",
       "\n",
       "    .dataframe tbody tr th {\n",
       "        vertical-align: top;\n",
       "    }\n",
       "\n",
       "    .dataframe thead th {\n",
       "        text-align: right;\n",
       "    }\n",
       "</style>\n",
       "<table border=\"1\" class=\"dataframe\">\n",
       "  <thead>\n",
       "    <tr style=\"text-align: right;\">\n",
       "      <th></th>\n",
       "      <th>id</th>\n",
       "      <th>class</th>\n",
       "      <th>segmentation</th>\n",
       "      <th>case_id</th>\n",
       "      <th>day_id</th>\n",
       "      <th>slice</th>\n",
       "    </tr>\n",
       "  </thead>\n",
       "  <tbody>\n",
       "    <tr>\n",
       "      <th>0</th>\n",
       "      <td>case123_day20_slice_0001</td>\n",
       "      <td>large_bowel</td>\n",
       "      <td>nan</td>\n",
       "      <td>123</td>\n",
       "      <td>20</td>\n",
       "      <td>0001</td>\n",
       "    </tr>\n",
       "    <tr>\n",
       "      <th>1</th>\n",
       "      <td>case123_day20_slice_0001</td>\n",
       "      <td>small_bowel</td>\n",
       "      <td>nan</td>\n",
       "      <td>123</td>\n",
       "      <td>20</td>\n",
       "      <td>0001</td>\n",
       "    </tr>\n",
       "    <tr>\n",
       "      <th>2</th>\n",
       "      <td>case123_day20_slice_0001</td>\n",
       "      <td>stomach</td>\n",
       "      <td>nan</td>\n",
       "      <td>123</td>\n",
       "      <td>20</td>\n",
       "      <td>0001</td>\n",
       "    </tr>\n",
       "    <tr>\n",
       "      <th>3</th>\n",
       "      <td>case123_day20_slice_0002</td>\n",
       "      <td>large_bowel</td>\n",
       "      <td>nan</td>\n",
       "      <td>123</td>\n",
       "      <td>20</td>\n",
       "      <td>0002</td>\n",
       "    </tr>\n",
       "    <tr>\n",
       "      <th>4</th>\n",
       "      <td>case123_day20_slice_0002</td>\n",
       "      <td>small_bowel</td>\n",
       "      <td>nan</td>\n",
       "      <td>123</td>\n",
       "      <td>20</td>\n",
       "      <td>0002</td>\n",
       "    </tr>\n",
       "  </tbody>\n",
       "</table>\n",
       "</div>"
      ],
      "text/plain": [
       "                         id        class segmentation case_id day_id slice\n",
       "0  case123_day20_slice_0001  large_bowel          nan     123     20  0001\n",
       "1  case123_day20_slice_0001  small_bowel          nan     123     20  0001\n",
       "2  case123_day20_slice_0001      stomach          nan     123     20  0001\n",
       "3  case123_day20_slice_0002  large_bowel          nan     123     20  0002\n",
       "4  case123_day20_slice_0002  small_bowel          nan     123     20  0002"
      ]
     },
     "execution_count": 5,
     "metadata": {},
     "output_type": "execute_result"
    }
   ],
   "source": [
    "df['case_id'] = df['id'].apply(lambda x: x.split('_')[0][4:])\n",
    "df['day_id'] = df['id'].apply(lambda x: x.split('_')[1][3:])\n",
    "df['slice'] = df['id'].apply(lambda x: x.split('_')[-1])\n",
    "df['segmentation'] = df['segmentation'].astype('str')\n",
    "df.head()"
   ]
  },
  {
   "cell_type": "markdown",
   "id": "9e4c9d4b",
   "metadata": {
    "papermill": {
     "duration": 0.017999,
     "end_time": "2022-05-18T16:13:07.715942",
     "exception": false,
     "start_time": "2022-05-18T16:13:07.697943",
     "status": "completed"
    },
    "tags": []
   },
   "source": [
    "그리고나서 `id` 열로부터 데이터 위치를 추출하자  \n",
    "실제 데이터 경로 예시는 다음과 같다  \n",
    "`../input/uw-madison-gi-tract-image-segmentation/train/case101/case101_day20/scans/slice_0001_266_266_1.50_1.50.png`"
   ]
  },
  {
   "cell_type": "code",
   "execution_count": 6,
   "id": "fd0fd70b",
   "metadata": {
    "execution": {
     "iopub.execute_input": "2022-05-18T16:13:07.755094Z",
     "iopub.status.busy": "2022-05-18T16:13:07.754828Z",
     "iopub.status.idle": "2022-05-18T16:14:35.801206Z",
     "shell.execute_reply": "2022-05-18T16:14:35.800114Z"
    },
    "papermill": {
     "duration": 88.069078,
     "end_time": "2022-05-18T16:14:35.803994",
     "exception": false,
     "start_time": "2022-05-18T16:13:07.734916",
     "status": "completed"
    },
    "tags": []
   },
   "outputs": [
    {
     "name": "stderr",
     "output_type": "stream",
     "text": [
      "Fetch path from id: 100%|██████████| 115488/115488 [01:28<00:00, 1312.12it/s]\n"
     ]
    },
    {
     "data": {
      "text/html": [
       "<div>\n",
       "<style scoped>\n",
       "    .dataframe tbody tr th:only-of-type {\n",
       "        vertical-align: middle;\n",
       "    }\n",
       "\n",
       "    .dataframe tbody tr th {\n",
       "        vertical-align: top;\n",
       "    }\n",
       "\n",
       "    .dataframe thead th {\n",
       "        text-align: right;\n",
       "    }\n",
       "</style>\n",
       "<table border=\"1\" class=\"dataframe\">\n",
       "  <thead>\n",
       "    <tr style=\"text-align: right;\">\n",
       "      <th></th>\n",
       "      <th>id</th>\n",
       "      <th>class</th>\n",
       "      <th>segmentation</th>\n",
       "      <th>case_id</th>\n",
       "      <th>day_id</th>\n",
       "      <th>slice</th>\n",
       "      <th>path</th>\n",
       "    </tr>\n",
       "  </thead>\n",
       "  <tbody>\n",
       "    <tr>\n",
       "      <th>0</th>\n",
       "      <td>case123_day20_slice_0001</td>\n",
       "      <td>large_bowel</td>\n",
       "      <td>nan</td>\n",
       "      <td>123</td>\n",
       "      <td>20</td>\n",
       "      <td>0001</td>\n",
       "      <td>../input/uw-madison-gi-tract-image-segmentatio...</td>\n",
       "    </tr>\n",
       "    <tr>\n",
       "      <th>1</th>\n",
       "      <td>case123_day20_slice_0001</td>\n",
       "      <td>small_bowel</td>\n",
       "      <td>nan</td>\n",
       "      <td>123</td>\n",
       "      <td>20</td>\n",
       "      <td>0001</td>\n",
       "      <td>../input/uw-madison-gi-tract-image-segmentatio...</td>\n",
       "    </tr>\n",
       "    <tr>\n",
       "      <th>2</th>\n",
       "      <td>case123_day20_slice_0001</td>\n",
       "      <td>stomach</td>\n",
       "      <td>nan</td>\n",
       "      <td>123</td>\n",
       "      <td>20</td>\n",
       "      <td>0001</td>\n",
       "      <td>../input/uw-madison-gi-tract-image-segmentatio...</td>\n",
       "    </tr>\n",
       "    <tr>\n",
       "      <th>3</th>\n",
       "      <td>case123_day20_slice_0002</td>\n",
       "      <td>large_bowel</td>\n",
       "      <td>nan</td>\n",
       "      <td>123</td>\n",
       "      <td>20</td>\n",
       "      <td>0002</td>\n",
       "      <td>../input/uw-madison-gi-tract-image-segmentatio...</td>\n",
       "    </tr>\n",
       "    <tr>\n",
       "      <th>4</th>\n",
       "      <td>case123_day20_slice_0002</td>\n",
       "      <td>small_bowel</td>\n",
       "      <td>nan</td>\n",
       "      <td>123</td>\n",
       "      <td>20</td>\n",
       "      <td>0002</td>\n",
       "      <td>../input/uw-madison-gi-tract-image-segmentatio...</td>\n",
       "    </tr>\n",
       "  </tbody>\n",
       "</table>\n",
       "</div>"
      ],
      "text/plain": [
       "                         id        class segmentation case_id day_id slice  \\\n",
       "0  case123_day20_slice_0001  large_bowel          nan     123     20  0001   \n",
       "1  case123_day20_slice_0001  small_bowel          nan     123     20  0001   \n",
       "2  case123_day20_slice_0001      stomach          nan     123     20  0001   \n",
       "3  case123_day20_slice_0002  large_bowel          nan     123     20  0002   \n",
       "4  case123_day20_slice_0002  small_bowel          nan     123     20  0002   \n",
       "\n",
       "                                                path  \n",
       "0  ../input/uw-madison-gi-tract-image-segmentatio...  \n",
       "1  ../input/uw-madison-gi-tract-image-segmentatio...  \n",
       "2  ../input/uw-madison-gi-tract-image-segmentatio...  \n",
       "3  ../input/uw-madison-gi-tract-image-segmentatio...  \n",
       "4  ../input/uw-madison-gi-tract-image-segmentatio...  "
      ]
     },
     "execution_count": 6,
     "metadata": {},
     "output_type": "execute_result"
    }
   ],
   "source": [
    "def fetch_path_from_id(base_path, case_id):\n",
    "    case_folder = case_id.split('_')[0]\n",
    "    day_folder = '_'.join(case_id.split('_')[:2])\n",
    "    png_file_start = '_'.join(case_id.split('_')[2:])\n",
    "    \n",
    "    folder = os.path.join(base_path,'train', case_folder, day_folder, 'scans')\n",
    "    png_file = glob(os.path.join(folder, png_file_start+\"*\"))[0]\n",
    "    return png_file\n",
    "\n",
    "tqdm.pandas(desc='Fetch path from id')\n",
    "df['path'] = df['id'].progress_apply(lambda x: fetch_path_from_id(BASE_PATH, x))\n",
    "df.head()"
   ]
  },
  {
   "cell_type": "markdown",
   "id": "d220f23f",
   "metadata": {
    "papermill": {
     "duration": 0.269618,
     "end_time": "2022-05-18T16:14:36.352936",
     "exception": false,
     "start_time": "2022-05-18T16:14:36.083318",
     "status": "completed"
    },
    "tags": []
   },
   "source": [
    "이제는 마스크의 height, width, pixel spacing 정보를 찾아 붙이자"
   ]
  },
  {
   "cell_type": "code",
   "execution_count": 7,
   "id": "35ba26e1",
   "metadata": {
    "execution": {
     "iopub.execute_input": "2022-05-18T16:14:36.880025Z",
     "iopub.status.busy": "2022-05-18T16:14:36.879261Z",
     "iopub.status.idle": "2022-05-18T16:14:37.344740Z",
     "shell.execute_reply": "2022-05-18T16:14:37.343979Z"
    },
    "papermill": {
     "duration": 0.732152,
     "end_time": "2022-05-18T16:14:37.346874",
     "exception": false,
     "start_time": "2022-05-18T16:14:36.614722",
     "status": "completed"
    },
    "tags": []
   },
   "outputs": [
    {
     "data": {
      "text/html": [
       "<div>\n",
       "<style scoped>\n",
       "    .dataframe tbody tr th:only-of-type {\n",
       "        vertical-align: middle;\n",
       "    }\n",
       "\n",
       "    .dataframe tbody tr th {\n",
       "        vertical-align: top;\n",
       "    }\n",
       "\n",
       "    .dataframe thead th {\n",
       "        text-align: right;\n",
       "    }\n",
       "</style>\n",
       "<table border=\"1\" class=\"dataframe\">\n",
       "  <thead>\n",
       "    <tr style=\"text-align: right;\">\n",
       "      <th></th>\n",
       "      <th>id</th>\n",
       "      <th>class</th>\n",
       "      <th>segmentation</th>\n",
       "      <th>case_id</th>\n",
       "      <th>day_id</th>\n",
       "      <th>slice</th>\n",
       "      <th>path</th>\n",
       "      <th>height</th>\n",
       "      <th>width</th>\n",
       "      <th>pixel_horizontal_spacing</th>\n",
       "      <th>pixel_vertical_spacing</th>\n",
       "    </tr>\n",
       "  </thead>\n",
       "  <tbody>\n",
       "    <tr>\n",
       "      <th>0</th>\n",
       "      <td>case123_day20_slice_0001</td>\n",
       "      <td>large_bowel</td>\n",
       "      <td>nan</td>\n",
       "      <td>123</td>\n",
       "      <td>20</td>\n",
       "      <td>0001</td>\n",
       "      <td>../input/uw-madison-gi-tract-image-segmentatio...</td>\n",
       "      <td>266</td>\n",
       "      <td>266</td>\n",
       "      <td>1.5</td>\n",
       "      <td>1.0</td>\n",
       "    </tr>\n",
       "    <tr>\n",
       "      <th>1</th>\n",
       "      <td>case123_day20_slice_0001</td>\n",
       "      <td>small_bowel</td>\n",
       "      <td>nan</td>\n",
       "      <td>123</td>\n",
       "      <td>20</td>\n",
       "      <td>0001</td>\n",
       "      <td>../input/uw-madison-gi-tract-image-segmentatio...</td>\n",
       "      <td>266</td>\n",
       "      <td>266</td>\n",
       "      <td>1.5</td>\n",
       "      <td>1.0</td>\n",
       "    </tr>\n",
       "    <tr>\n",
       "      <th>2</th>\n",
       "      <td>case123_day20_slice_0001</td>\n",
       "      <td>stomach</td>\n",
       "      <td>nan</td>\n",
       "      <td>123</td>\n",
       "      <td>20</td>\n",
       "      <td>0001</td>\n",
       "      <td>../input/uw-madison-gi-tract-image-segmentatio...</td>\n",
       "      <td>266</td>\n",
       "      <td>266</td>\n",
       "      <td>1.5</td>\n",
       "      <td>1.0</td>\n",
       "    </tr>\n",
       "    <tr>\n",
       "      <th>3</th>\n",
       "      <td>case123_day20_slice_0002</td>\n",
       "      <td>large_bowel</td>\n",
       "      <td>nan</td>\n",
       "      <td>123</td>\n",
       "      <td>20</td>\n",
       "      <td>0002</td>\n",
       "      <td>../input/uw-madison-gi-tract-image-segmentatio...</td>\n",
       "      <td>266</td>\n",
       "      <td>266</td>\n",
       "      <td>1.5</td>\n",
       "      <td>1.0</td>\n",
       "    </tr>\n",
       "    <tr>\n",
       "      <th>4</th>\n",
       "      <td>case123_day20_slice_0002</td>\n",
       "      <td>small_bowel</td>\n",
       "      <td>nan</td>\n",
       "      <td>123</td>\n",
       "      <td>20</td>\n",
       "      <td>0002</td>\n",
       "      <td>../input/uw-madison-gi-tract-image-segmentatio...</td>\n",
       "      <td>266</td>\n",
       "      <td>266</td>\n",
       "      <td>1.5</td>\n",
       "      <td>1.0</td>\n",
       "    </tr>\n",
       "  </tbody>\n",
       "</table>\n",
       "</div>"
      ],
      "text/plain": [
       "                         id        class segmentation case_id day_id slice  \\\n",
       "0  case123_day20_slice_0001  large_bowel          nan     123     20  0001   \n",
       "1  case123_day20_slice_0001  small_bowel          nan     123     20  0001   \n",
       "2  case123_day20_slice_0001      stomach          nan     123     20  0001   \n",
       "3  case123_day20_slice_0002  large_bowel          nan     123     20  0002   \n",
       "4  case123_day20_slice_0002  small_bowel          nan     123     20  0002   \n",
       "\n",
       "                                                path  height  width  \\\n",
       "0  ../input/uw-madison-gi-tract-image-segmentatio...     266    266   \n",
       "1  ../input/uw-madison-gi-tract-image-segmentatio...     266    266   \n",
       "2  ../input/uw-madison-gi-tract-image-segmentatio...     266    266   \n",
       "3  ../input/uw-madison-gi-tract-image-segmentatio...     266    266   \n",
       "4  ../input/uw-madison-gi-tract-image-segmentatio...     266    266   \n",
       "\n",
       "   pixel_horizontal_spacing  pixel_vertical_spacing  \n",
       "0                       1.5                     1.0  \n",
       "1                       1.5                     1.0  \n",
       "2                       1.5                     1.0  \n",
       "3                       1.5                     1.0  \n",
       "4                       1.5                     1.0  "
      ]
     },
     "execution_count": 7,
     "metadata": {},
     "output_type": "execute_result"
    }
   ],
   "source": [
    "df['height'] = df['path'].apply(lambda x: x.split('/')[-1].split('_')[2]).astype('int')\n",
    "df['width'] = df['path'].apply(lambda x: x.split('/')[-1].split('_')[3]).astype('int')\n",
    "df['pixel_horizontal_spacing'] = df['path'].apply(lambda x: x.split('/')[-1].split('_')[4]).astype('float')\n",
    "df['pixel_vertical_spacing'] = df['path'].apply(lambda x: x.split('/')[-1].split('_')[5].split('.')[0]).astype('float')\n",
    "df.head()"
   ]
  },
  {
   "cell_type": "markdown",
   "id": "5ad5c93c",
   "metadata": {
    "papermill": {
     "duration": 0.25881,
     "end_time": "2022-05-18T16:14:37.855540",
     "exception": false,
     "start_time": "2022-05-18T16:14:37.596730",
     "status": "completed"
    },
    "tags": []
   },
   "source": [
    "## Class Encoding"
   ]
  },
  {
   "cell_type": "code",
   "execution_count": 8,
   "id": "31b395bd",
   "metadata": {
    "execution": {
     "iopub.execute_input": "2022-05-18T16:14:38.379628Z",
     "iopub.status.busy": "2022-05-18T16:14:38.379054Z",
     "iopub.status.idle": "2022-05-18T16:14:38.441881Z",
     "shell.execute_reply": "2022-05-18T16:14:38.440494Z"
    },
    "papermill": {
     "duration": 0.330368,
     "end_time": "2022-05-18T16:14:38.444475",
     "exception": false,
     "start_time": "2022-05-18T16:14:38.114107",
     "status": "completed"
    },
    "tags": []
   },
   "outputs": [
    {
     "data": {
      "text/html": [
       "<div>\n",
       "<style scoped>\n",
       "    .dataframe tbody tr th:only-of-type {\n",
       "        vertical-align: middle;\n",
       "    }\n",
       "\n",
       "    .dataframe tbody tr th {\n",
       "        vertical-align: top;\n",
       "    }\n",
       "\n",
       "    .dataframe thead th {\n",
       "        text-align: right;\n",
       "    }\n",
       "</style>\n",
       "<table border=\"1\" class=\"dataframe\">\n",
       "  <thead>\n",
       "    <tr style=\"text-align: right;\">\n",
       "      <th></th>\n",
       "      <th>id</th>\n",
       "      <th>class</th>\n",
       "      <th>segmentation</th>\n",
       "      <th>case_id</th>\n",
       "      <th>day_id</th>\n",
       "      <th>slice</th>\n",
       "      <th>path</th>\n",
       "      <th>height</th>\n",
       "      <th>width</th>\n",
       "      <th>pixel_horizontal_spacing</th>\n",
       "      <th>pixel_vertical_spacing</th>\n",
       "    </tr>\n",
       "  </thead>\n",
       "  <tbody>\n",
       "    <tr>\n",
       "      <th>0</th>\n",
       "      <td>case123_day20_slice_0001</td>\n",
       "      <td>0</td>\n",
       "      <td>nan</td>\n",
       "      <td>123</td>\n",
       "      <td>20</td>\n",
       "      <td>0001</td>\n",
       "      <td>../input/uw-madison-gi-tract-image-segmentatio...</td>\n",
       "      <td>266</td>\n",
       "      <td>266</td>\n",
       "      <td>1.5</td>\n",
       "      <td>1.0</td>\n",
       "    </tr>\n",
       "    <tr>\n",
       "      <th>1</th>\n",
       "      <td>case123_day20_slice_0001</td>\n",
       "      <td>1</td>\n",
       "      <td>nan</td>\n",
       "      <td>123</td>\n",
       "      <td>20</td>\n",
       "      <td>0001</td>\n",
       "      <td>../input/uw-madison-gi-tract-image-segmentatio...</td>\n",
       "      <td>266</td>\n",
       "      <td>266</td>\n",
       "      <td>1.5</td>\n",
       "      <td>1.0</td>\n",
       "    </tr>\n",
       "    <tr>\n",
       "      <th>2</th>\n",
       "      <td>case123_day20_slice_0001</td>\n",
       "      <td>2</td>\n",
       "      <td>nan</td>\n",
       "      <td>123</td>\n",
       "      <td>20</td>\n",
       "      <td>0001</td>\n",
       "      <td>../input/uw-madison-gi-tract-image-segmentatio...</td>\n",
       "      <td>266</td>\n",
       "      <td>266</td>\n",
       "      <td>1.5</td>\n",
       "      <td>1.0</td>\n",
       "    </tr>\n",
       "    <tr>\n",
       "      <th>3</th>\n",
       "      <td>case123_day20_slice_0002</td>\n",
       "      <td>0</td>\n",
       "      <td>nan</td>\n",
       "      <td>123</td>\n",
       "      <td>20</td>\n",
       "      <td>0002</td>\n",
       "      <td>../input/uw-madison-gi-tract-image-segmentatio...</td>\n",
       "      <td>266</td>\n",
       "      <td>266</td>\n",
       "      <td>1.5</td>\n",
       "      <td>1.0</td>\n",
       "    </tr>\n",
       "    <tr>\n",
       "      <th>4</th>\n",
       "      <td>case123_day20_slice_0002</td>\n",
       "      <td>1</td>\n",
       "      <td>nan</td>\n",
       "      <td>123</td>\n",
       "      <td>20</td>\n",
       "      <td>0002</td>\n",
       "      <td>../input/uw-madison-gi-tract-image-segmentatio...</td>\n",
       "      <td>266</td>\n",
       "      <td>266</td>\n",
       "      <td>1.5</td>\n",
       "      <td>1.0</td>\n",
       "    </tr>\n",
       "  </tbody>\n",
       "</table>\n",
       "</div>"
      ],
      "text/plain": [
       "                         id  class segmentation case_id day_id slice  \\\n",
       "0  case123_day20_slice_0001      0          nan     123     20  0001   \n",
       "1  case123_day20_slice_0001      1          nan     123     20  0001   \n",
       "2  case123_day20_slice_0001      2          nan     123     20  0001   \n",
       "3  case123_day20_slice_0002      0          nan     123     20  0002   \n",
       "4  case123_day20_slice_0002      1          nan     123     20  0002   \n",
       "\n",
       "                                                path  height  width  \\\n",
       "0  ../input/uw-madison-gi-tract-image-segmentatio...     266    266   \n",
       "1  ../input/uw-madison-gi-tract-image-segmentatio...     266    266   \n",
       "2  ../input/uw-madison-gi-tract-image-segmentatio...     266    266   \n",
       "3  ../input/uw-madison-gi-tract-image-segmentatio...     266    266   \n",
       "4  ../input/uw-madison-gi-tract-image-segmentatio...     266    266   \n",
       "\n",
       "   pixel_horizontal_spacing  pixel_vertical_spacing  \n",
       "0                       1.5                     1.0  \n",
       "1                       1.5                     1.0  \n",
       "2                       1.5                     1.0  \n",
       "3                       1.5                     1.0  \n",
       "4                       1.5                     1.0  "
      ]
     },
     "execution_count": 8,
     "metadata": {},
     "output_type": "execute_result"
    }
   ],
   "source": [
    "class_list = df['class'].unique()\n",
    "for idx, label in enumerate(class_list):\n",
    "    df['class'].replace(label, idx, inplace=True)\n",
    "df.head()"
   ]
  },
  {
   "cell_type": "markdown",
   "id": "af7dfd3b",
   "metadata": {
    "papermill": {
     "duration": 0.272277,
     "end_time": "2022-05-18T16:14:38.993149",
     "exception": false,
     "start_time": "2022-05-18T16:14:38.720872",
     "status": "completed"
    },
    "tags": []
   },
   "source": [
    "이제 rle로된 `segmentation` 열을 마스크 이미지로 생성해보자"
   ]
  },
  {
   "cell_type": "code",
   "execution_count": 9,
   "id": "13325d14",
   "metadata": {
    "execution": {
     "iopub.execute_input": "2022-05-18T16:14:39.561907Z",
     "iopub.status.busy": "2022-05-18T16:14:39.560285Z",
     "iopub.status.idle": "2022-05-18T16:14:39.571414Z",
     "shell.execute_reply": "2022-05-18T16:14:39.570611Z"
    },
    "papermill": {
     "duration": 0.309177,
     "end_time": "2022-05-18T16:14:39.573657",
     "exception": false,
     "start_time": "2022-05-18T16:14:39.264480",
     "status": "completed"
    },
    "tags": []
   },
   "outputs": [],
   "source": [
    "# ref: https://www.kaggle.com/paulorzp/run-length-encode-and-decode\n",
    "def rle_decode(mask_rle, shape):\n",
    "    '''\n",
    "    mask_rle: run-length as string formated (start length)\n",
    "    shape: (height,width) of array to return \n",
    "    Returns numpy array, 1 - mask, 0 - background\n",
    "\n",
    "    '''\n",
    "    s = mask_rle.split()\n",
    "    starts, lengths = [np.asarray(x, dtype=int) for x in (s[0:][::2], s[1:][::2])]\n",
    "    starts -= 1\n",
    "    ends = starts + lengths\n",
    "    img = np.zeros(shape[0]*shape[1], dtype=np.uint8)\n",
    "    for lo, hi in zip(starts, ends):\n",
    "        img[lo:hi] = 1\n",
    "    return img.reshape(shape)  # Needed to align to RLE direction\n",
    "\n",
    "\n",
    "# ref.: https://www.kaggle.com/stainsby/fast-tested-rle\n",
    "def rle_encode(img):\n",
    "    '''\n",
    "    img: numpy array, 1 - mask, 0 - background\n",
    "    Returns run length as string formated\n",
    "    '''\n",
    "    pixels = img.flatten()\n",
    "    pixels = np.concatenate([[0], pixels, [0]])\n",
    "    runs = np.where(pixels[1:] != pixels[:-1])[0] + 1\n",
    "    runs[1::2] -= runs[::2]\n",
    "    return ' '.join(str(x) for x in runs)"
   ]
  },
  {
   "cell_type": "code",
   "execution_count": 10,
   "id": "310fc92a",
   "metadata": {
    "execution": {
     "iopub.execute_input": "2022-05-18T16:14:40.128565Z",
     "iopub.status.busy": "2022-05-18T16:14:40.128224Z",
     "iopub.status.idle": "2022-05-18T16:14:40.412539Z",
     "shell.execute_reply": "2022-05-18T16:14:40.411924Z"
    },
    "papermill": {
     "duration": 0.555894,
     "end_time": "2022-05-18T16:14:40.414389",
     "exception": false,
     "start_time": "2022-05-18T16:14:39.858495",
     "status": "completed"
    },
    "tags": []
   },
   "outputs": [
    {
     "data": {
      "image/png": "[encoded data removed]",
      "text/plain": [
       "<Figure size 432x288 with 2 Axes>"
      ]
     },
     "metadata": {
      "needs_background": "light"
     },
     "output_type": "display_data"
    }
   ],
   "source": [
    "plt.subplot(1,2,1); plt.axis('off')\n",
    "# plt.imshow(cv2.imread(df.loc[200, 'path'], cv2.IMREAD_UNCHANGED), cmap='bone')\n",
    "plt.imshow(Image.open(df.loc[200, 'path']).convert('RGB'), cmap='bone')\n",
    "plt.subplot(1,2,2); plt.axis('off')\n",
    "plt.imshow(rle_decode(df.loc[200, 'segmentation'], df.loc[200, ['height', 'width']]), cmap='bone')\n",
    "plt.tight_layout()\n",
    "plt.show()"
   ]
  },
  {
   "cell_type": "markdown",
   "id": "e1a8bd13",
   "metadata": {
    "papermill": {
     "duration": 0.271138,
     "end_time": "2022-05-18T16:14:40.948081",
     "exception": false,
     "start_time": "2022-05-18T16:14:40.676943",
     "status": "completed"
    },
    "tags": []
   },
   "source": [
    "# 📀 Dataset"
   ]
  },
  {
   "cell_type": "code",
   "execution_count": 11,
   "id": "2f1de67d",
   "metadata": {
    "execution": {
     "iopub.execute_input": "2022-05-18T16:14:41.481949Z",
     "iopub.status.busy": "2022-05-18T16:14:41.481423Z",
     "iopub.status.idle": "2022-05-18T16:14:41.490735Z",
     "shell.execute_reply": "2022-05-18T16:14:41.490131Z"
    },
    "papermill": {
     "duration": 0.283294,
     "end_time": "2022-05-18T16:14:41.492828",
     "exception": false,
     "start_time": "2022-05-18T16:14:41.209534",
     "status": "completed"
    },
    "tags": []
   },
   "outputs": [],
   "source": [
    "class UWDataset(Dataset):\n",
    "    def __init__(self, df, h=256, w=256):\n",
    "        super().__init__()\n",
    "        self.df = df\n",
    "        self.h = h\n",
    "        self.w = w\n",
    "        self.resize = Resize((self.h,self.w))\n",
    "        \n",
    "    def __len__(self):\n",
    "        return len(self.df)\n",
    "    \n",
    "    def __getitem__(self, index):\n",
    "        image_path = self.df.loc[index, 'path']\n",
    "        image= Image.open(image_path).convert('RGB')\n",
    "        mask_h, mask_w = self.df.loc[index, 'height'], self.df.loc[index, 'width']\n",
    "        mask_rle =  self.df.loc[index, 'segmentation']\n",
    "        mask_img = self.load_mask(mask_rle, mask_h, mask_w)\n",
    "\n",
    "\n",
    "        # updating to proper format\n",
    "        image = ToTensor()(self.resize(image))\n",
    "        mask_img = torch.from_numpy(np.asarray(self.resize(mask_img)))\n",
    "        \n",
    "        mask = torch.zeros((3, self.h, self.w))\n",
    "        mask[self.df.loc[index, 'class'], ...] = mask_img\n",
    "\n",
    "        sample = {'data': image, 'label': mask}\n",
    "        return sample\n",
    "\n",
    "    def load_mask(self, mask_rle, h, w):\n",
    "        if mask_rle != 'nan':\n",
    "            return Image.fromarray(rle_decode(mask_rle, [h, w]))\n",
    "        return Image.fromarray(np.zeros((h,w)))"
   ]
  },
  {
   "cell_type": "code",
   "execution_count": 12,
   "id": "03e3e473",
   "metadata": {
    "execution": {
     "iopub.execute_input": "2022-05-18T16:14:42.011436Z",
     "iopub.status.busy": "2022-05-18T16:14:42.010259Z",
     "iopub.status.idle": "2022-05-18T16:14:42.015236Z",
     "shell.execute_reply": "2022-05-18T16:14:42.014335Z"
    },
    "papermill": {
     "duration": 0.268775,
     "end_time": "2022-05-18T16:14:42.017251",
     "exception": false,
     "start_time": "2022-05-18T16:14:41.748476",
     "status": "completed"
    },
    "tags": []
   },
   "outputs": [],
   "source": [
    "ds = UWDataset(df)"
   ]
  },
  {
   "cell_type": "code",
   "execution_count": 13,
   "id": "48628d6c",
   "metadata": {
    "execution": {
     "iopub.execute_input": "2022-05-18T16:14:42.556277Z",
     "iopub.status.busy": "2022-05-18T16:14:42.555762Z",
     "iopub.status.idle": "2022-05-18T16:14:42.621168Z",
     "shell.execute_reply": "2022-05-18T16:14:42.620497Z"
    },
    "papermill": {
     "duration": 0.352042,
     "end_time": "2022-05-18T16:14:42.623430",
     "exception": false,
     "start_time": "2022-05-18T16:14:42.271388",
     "status": "completed"
    },
    "tags": []
   },
   "outputs": [],
   "source": [
    "sample = ds[200]\n",
    "image, mask = sample['data'], sample['label']"
   ]
  },
  {
   "cell_type": "code",
   "execution_count": 14,
   "id": "7f1926ac",
   "metadata": {
    "execution": {
     "iopub.execute_input": "2022-05-18T16:14:43.119462Z",
     "iopub.status.busy": "2022-05-18T16:14:43.118940Z",
     "iopub.status.idle": "2022-05-18T16:14:43.277842Z",
     "shell.execute_reply": "2022-05-18T16:14:43.276930Z"
    },
    "papermill": {
     "duration": 0.410634,
     "end_time": "2022-05-18T16:14:43.280318",
     "exception": false,
     "start_time": "2022-05-18T16:14:42.869684",
     "status": "completed"
    },
    "tags": []
   },
   "outputs": [
    {
     "data": {
      "image/png": "[encoded data removed]",
      "text/plain": [
       "<Figure size 432x288 with 2 Axes>"
      ]
     },
     "metadata": {
      "needs_background": "light"
     },
     "output_type": "display_data"
    }
   ],
   "source": [
    "plt.subplot(1,2,1)\n",
    "plt.imshow(image.permute(1,2,0)); plt.axis('off')\n",
    "plt.subplot(1,2,2)\n",
    "plt.imshow(mask.permute(1,2,0), cmap='gray'); plt.axis('off')\n",
    "plt.show()"
   ]
  },
  {
   "cell_type": "code",
   "execution_count": null,
   "id": "1b85c6ae",
   "metadata": {
    "papermill": {
     "duration": 0.2571,
     "end_time": "2022-05-18T16:14:43.801514",
     "exception": false,
     "start_time": "2022-05-18T16:14:43.544414",
     "status": "completed"
    },
    "tags": []
   },
   "outputs": [],
   "source": []
  }
 ],
 "metadata": {
  "kernelspec": {
   "display_name": "Python 3",
   "language": "python",
   "name": "python3"
  },
  "language_info": {
   "codemirror_mode": {
    "name": "ipython",
    "version": 3
   },
   "file_extension": ".py",
   "mimetype": "text/x-python",
   "name": "python",
   "nbconvert_exporter": "python",
   "pygments_lexer": "ipython3",
   "version": "3.7.12"
  },
  "papermill": {
   "default_parameters": {},
   "duration": 109.995795,
   "end_time": "2022-05-18T16:14:44.880047",
   "environment_variables": {},
   "exception": null,
   "input_path": "__notebook__.ipynb",
   "output_path": "__notebook__.ipynb",
   "parameters": {},
   "start_time": "2022-05-18T16:12:54.884252",
   "version": "2.3.4"
  }
 },
 "nbformat": 4,
 "nbformat_minor": 5
}
